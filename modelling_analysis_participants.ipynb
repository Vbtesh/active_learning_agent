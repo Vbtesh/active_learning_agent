{
 "cells": [
  {
   "cell_type": "code",
   "execution_count": 16,
   "metadata": {},
   "outputs": [],
   "source": [
    "import numpy as np\n",
    "import pandas as pd\n",
    "\n",
    "import matplotlib.pyplot as plt\n",
    "import seaborn as sns\n"
   ]
  },
  {
   "cell_type": "code",
   "execution_count": 67,
   "metadata": {},
   "outputs": [],
   "source": [
    "models_ran = [\n",
    "    'LC_discrete_attention', \n",
    "    'change_d_obs_fk', \n",
    "    'change_d_obs_cause_effect',\n",
    "    'change_d_obs_cause',\n",
    "    'LC_discrete',\n",
    "]\n",
    "\n",
    "model_names = [\n",
    "    'LC w. attention',\n",
    "    'Change w. full knowledge',\n",
    "    'Change linear cause effect',\n",
    "    'Change linear cause',\n",
    "    'LC basic'\n",
    "]"
   ]
  },
  {
   "cell_type": "code",
   "execution_count": 105,
   "metadata": {},
   "outputs": [],
   "source": [
    "# Import datasets\n",
    "\n",
    "df = pd.DataFrame()\n",
    "for model in models_ran:\n",
    "    if df.empty:\n",
    "        df = pd.read_csv(f'./data/params_fitting_outputs/{model}/summary_fit.csv')\n",
    "    else:\n",
    "        df_2 = pd.read_csv(f'./data/params_fitting_outputs/{model}/summary_fit.csv')\n",
    "        df = pd.concat([df, df_2], axis=0, ignore_index=True)\n",
    "\n",
    "experiments_series = df_2.experiment.to_list()\n",
    "df = df.drop(['Unnamed: 0'], axis=1)\n",
    "\n",
    "df = df.replace(models_ran, model_names)"
   ]
  },
  {
   "cell_type": "code",
   "execution_count": 106,
   "metadata": {},
   "outputs": [
    {
     "name": "stdout",
     "output_type": "stream",
     "text": [
      "Number of lost trials: 4 out of 1510\n"
     ]
    }
   ],
   "source": [
    "print(f'Number of lost trials: {df.bic.isna().sum()} out of {df.shape[0]}')\n"
   ]
  },
  {
   "cell_type": "code",
   "execution_count": 107,
   "metadata": {},
   "outputs": [
    {
     "name": "stdout",
     "output_type": "stream",
     "text": [
      "Sample wide model fit:\n"
     ]
    },
    {
     "data": {
      "text/plain": [
       "model_name\n",
       "LC w. attention               58.245788\n",
       "Change w. full knowledge      59.836253\n",
       "Change linear cause effect    62.766581\n",
       "LC basic                      64.565290\n",
       "Change linear cause           67.988315\n",
       "Name: bic, dtype: float64"
      ]
     },
     "execution_count": 107,
     "metadata": {},
     "output_type": "execute_result"
    }
   ],
   "source": [
    "print('Sample wide model fit:')\n",
    "df.groupby('model_name').bic.mean().sort_values()"
   ]
  },
  {
   "cell_type": "code",
   "execution_count": null,
   "metadata": {},
   "outputs": [],
   "source": []
  },
  {
   "cell_type": "code",
   "execution_count": 108,
   "metadata": {},
   "outputs": [
    {
     "name": "stdout",
     "output_type": "stream",
     "text": [
      "Experiment 1 model fits:\n",
      "model_name\n",
      "LC w. attention               53.640474\n",
      "Change w. full knowledge      54.876913\n",
      "Change linear cause effect    58.988479\n",
      "LC basic                      59.596956\n",
      "Change linear cause           62.839898\n",
      "Name: bic, dtype: float64\n",
      "\n",
      "Experiment 2 model fits:\n",
      "model_name\n",
      "LC w. attention               63.178738\n",
      "Change w. full knowledge      64.355595\n",
      "Change linear cause effect    65.877945\n",
      "LC basic                      69.380321\n",
      "Change linear cause           71.611617\n",
      "Name: bic, dtype: float64\n",
      "\n",
      "Experiment 3 model fits:\n",
      "model_name\n",
      "LC w. attention               55.596464\n",
      "Change w. full knowledge      57.813437\n",
      "Change linear cause effect    61.554369\n",
      "LC basic                      62.293483\n",
      "Change linear cause           66.917948\n",
      "Name: bic, dtype: float64\n",
      "\n"
     ]
    }
   ],
   "source": [
    "experiments = df.experiment.unique()\n",
    "\n",
    "for i, experiment in enumerate(experiments):\n",
    "    df_exp = df[df.experiment == experiment]\n",
    "\n",
    "    print(f'Experiment {i+1} model fits:')\n",
    "    print(df_exp.groupby('model_name').bic.mean().sort_values())\n",
    "    print()\n"
   ]
  },
  {
   "cell_type": "code",
   "execution_count": 109,
   "metadata": {},
   "outputs": [],
   "source": [
    "pids = df.pid.unique()\n",
    "\n",
    "df['best_fit'] = np.nan\n",
    "for pid in pids:\n",
    "    df_pid = df[df.pid == pid].sort_values('bic')\n",
    "    df.loc[df.pid == pid, 'best_fit'] = df_pid.model_name.to_list()[0]\n"
   ]
  },
  {
   "cell_type": "code",
   "execution_count": 110,
   "metadata": {},
   "outputs": [
    {
     "data": {
      "text/plain": [
       "pid\n",
       "566feba6b937e400052d33b2    5\n",
       "56cb8858edf8da000b6df354    5\n",
       "56da8da8c5b248000ae2adaf    5\n",
       "571de12713b1b70012be47f6    5\n",
       "572f526c3c27e7000e0b8aaa    5\n",
       "                           ..\n",
       "615ec387ec57223c894f6fc2    5\n",
       "616c3f3a378cb38f3f7ecac3    5\n",
       "61717173748006894b2b54ff    5\n",
       "6176966806de000024ed0ddf    5\n",
       "test_625034503              5\n",
       "Name: experiment, Length: 302, dtype: int64"
      ]
     },
     "execution_count": 110,
     "metadata": {},
     "output_type": "execute_result"
    }
   ],
   "source": [
    "df.groupby('pid').experiment.count()"
   ]
  },
  {
   "cell_type": "code",
   "execution_count": 111,
   "metadata": {},
   "outputs": [
    {
     "data": {
      "text/html": [
       "<div>\n",
       "<style scoped>\n",
       "    .dataframe tbody tr th:only-of-type {\n",
       "        vertical-align: middle;\n",
       "    }\n",
       "\n",
       "    .dataframe tbody tr th {\n",
       "        vertical-align: top;\n",
       "    }\n",
       "\n",
       "    .dataframe thead th {\n",
       "        text-align: right;\n",
       "    }\n",
       "</style>\n",
       "<table border=\"1\" class=\"dataframe\">\n",
       "  <thead>\n",
       "    <tr style=\"text-align: right;\">\n",
       "      <th></th>\n",
       "      <th>LC w. attention</th>\n",
       "      <th>Change w. full knowledge</th>\n",
       "      <th>Change linear cause effect</th>\n",
       "      <th>LC basic</th>\n",
       "      <th>Change linear cause</th>\n",
       "      <th>Baseline</th>\n",
       "      <th>experiment</th>\n",
       "    </tr>\n",
       "  </thead>\n",
       "  <tbody>\n",
       "    <tr>\n",
       "      <th>56da8da8c5b248000ae2adaf</th>\n",
       "      <td>63.091344</td>\n",
       "      <td>67.761766</td>\n",
       "      <td>75.576402</td>\n",
       "      <td>67.940813</td>\n",
       "      <td>47.786918</td>\n",
       "      <td>77.25302</td>\n",
       "      <td>experiment_1</td>\n",
       "    </tr>\n",
       "    <tr>\n",
       "      <th>57e91ff08dcd2c00014bea18</th>\n",
       "      <td>35.489882</td>\n",
       "      <td>41.384843</td>\n",
       "      <td>54.863177</td>\n",
       "      <td>49.769078</td>\n",
       "      <td>41.992764</td>\n",
       "      <td>77.25302</td>\n",
       "      <td>experiment_1</td>\n",
       "    </tr>\n",
       "    <tr>\n",
       "      <th>5999ad2a0ed7ae0001991b57</th>\n",
       "      <td>51.025685</td>\n",
       "      <td>59.132440</td>\n",
       "      <td>72.857906</td>\n",
       "      <td>49.757691</td>\n",
       "      <td>73.227161</td>\n",
       "      <td>77.25302</td>\n",
       "      <td>experiment_1</td>\n",
       "    </tr>\n",
       "    <tr>\n",
       "      <th>5aead02c78b0060001e6b394</th>\n",
       "      <td>64.199367</td>\n",
       "      <td>70.558897</td>\n",
       "      <td>73.089547</td>\n",
       "      <td>74.730147</td>\n",
       "      <td>50.772848</td>\n",
       "      <td>77.25302</td>\n",
       "      <td>experiment_1</td>\n",
       "    </tr>\n",
       "    <tr>\n",
       "      <th>5b8bbd437073290001839123</th>\n",
       "      <td>63.913890</td>\n",
       "      <td>57.573685</td>\n",
       "      <td>68.635904</td>\n",
       "      <td>58.094628</td>\n",
       "      <td>52.113431</td>\n",
       "      <td>77.25302</td>\n",
       "      <td>experiment_1</td>\n",
       "    </tr>\n",
       "    <tr>\n",
       "      <th>...</th>\n",
       "      <td>...</td>\n",
       "      <td>...</td>\n",
       "      <td>...</td>\n",
       "      <td>...</td>\n",
       "      <td>...</td>\n",
       "      <td>...</td>\n",
       "      <td>...</td>\n",
       "    </tr>\n",
       "    <tr>\n",
       "      <th>615373f88839471e0ab77399</th>\n",
       "      <td>51.155298</td>\n",
       "      <td>36.940557</td>\n",
       "      <td>51.961849</td>\n",
       "      <td>58.094890</td>\n",
       "      <td>64.482857</td>\n",
       "      <td>77.25302</td>\n",
       "      <td>experiment_3</td>\n",
       "    </tr>\n",
       "    <tr>\n",
       "      <th>615ec387ec57223c894f6fc2</th>\n",
       "      <td>46.400208</td>\n",
       "      <td>42.158187</td>\n",
       "      <td>23.508854</td>\n",
       "      <td>61.713458</td>\n",
       "      <td>78.429057</td>\n",
       "      <td>77.25302</td>\n",
       "      <td>experiment_3</td>\n",
       "    </tr>\n",
       "    <tr>\n",
       "      <th>616c3f3a378cb38f3f7ecac3</th>\n",
       "      <td>51.139535</td>\n",
       "      <td>46.794686</td>\n",
       "      <td>47.311842</td>\n",
       "      <td>49.769003</td>\n",
       "      <td>42.487253</td>\n",
       "      <td>77.25302</td>\n",
       "      <td>experiment_3</td>\n",
       "    </tr>\n",
       "    <tr>\n",
       "      <th>61717173748006894b2b54ff</th>\n",
       "      <td>63.347225</td>\n",
       "      <td>64.795371</td>\n",
       "      <td>62.931103</td>\n",
       "      <td>67.928424</td>\n",
       "      <td>74.737068</td>\n",
       "      <td>77.25302</td>\n",
       "      <td>experiment_3</td>\n",
       "    </tr>\n",
       "    <tr>\n",
       "      <th>6176966806de000024ed0ddf</th>\n",
       "      <td>78.512632</td>\n",
       "      <td>77.261372</td>\n",
       "      <td>74.084130</td>\n",
       "      <td>77.177364</td>\n",
       "      <td>80.192240</td>\n",
       "      <td>77.25302</td>\n",
       "      <td>experiment_3</td>\n",
       "    </tr>\n",
       "  </tbody>\n",
       "</table>\n",
       "<p>302 rows × 7 columns</p>\n",
       "</div>"
      ],
      "text/plain": [
       "                          LC w. attention  Change w. full knowledge  \\\n",
       "56da8da8c5b248000ae2adaf        63.091344                 67.761766   \n",
       "57e91ff08dcd2c00014bea18        35.489882                 41.384843   \n",
       "5999ad2a0ed7ae0001991b57        51.025685                 59.132440   \n",
       "5aead02c78b0060001e6b394        64.199367                 70.558897   \n",
       "5b8bbd437073290001839123        63.913890                 57.573685   \n",
       "...                                   ...                       ...   \n",
       "615373f88839471e0ab77399        51.155298                 36.940557   \n",
       "615ec387ec57223c894f6fc2        46.400208                 42.158187   \n",
       "616c3f3a378cb38f3f7ecac3        51.139535                 46.794686   \n",
       "61717173748006894b2b54ff        63.347225                 64.795371   \n",
       "6176966806de000024ed0ddf        78.512632                 77.261372   \n",
       "\n",
       "                          Change linear cause effect   LC basic  \\\n",
       "56da8da8c5b248000ae2adaf                   75.576402  67.940813   \n",
       "57e91ff08dcd2c00014bea18                   54.863177  49.769078   \n",
       "5999ad2a0ed7ae0001991b57                   72.857906  49.757691   \n",
       "5aead02c78b0060001e6b394                   73.089547  74.730147   \n",
       "5b8bbd437073290001839123                   68.635904  58.094628   \n",
       "...                                              ...        ...   \n",
       "615373f88839471e0ab77399                   51.961849  58.094890   \n",
       "615ec387ec57223c894f6fc2                   23.508854  61.713458   \n",
       "616c3f3a378cb38f3f7ecac3                   47.311842  49.769003   \n",
       "61717173748006894b2b54ff                   62.931103  67.928424   \n",
       "6176966806de000024ed0ddf                   74.084130  77.177364   \n",
       "\n",
       "                          Change linear cause  Baseline    experiment  \n",
       "56da8da8c5b248000ae2adaf            47.786918  77.25302  experiment_1  \n",
       "57e91ff08dcd2c00014bea18            41.992764  77.25302  experiment_1  \n",
       "5999ad2a0ed7ae0001991b57            73.227161  77.25302  experiment_1  \n",
       "5aead02c78b0060001e6b394            50.772848  77.25302  experiment_1  \n",
       "5b8bbd437073290001839123            52.113431  77.25302  experiment_1  \n",
       "...                                       ...       ...           ...  \n",
       "615373f88839471e0ab77399            64.482857  77.25302  experiment_3  \n",
       "615ec387ec57223c894f6fc2            78.429057  77.25302  experiment_3  \n",
       "616c3f3a378cb38f3f7ecac3            42.487253  77.25302  experiment_3  \n",
       "61717173748006894b2b54ff            74.737068  77.25302  experiment_3  \n",
       "6176966806de000024ed0ddf            80.192240  77.25302  experiment_3  \n",
       "\n",
       "[302 rows x 7 columns]"
      ]
     },
     "execution_count": 111,
     "metadata": {},
     "output_type": "execute_result"
    }
   ],
   "source": [
    "df_bic = pd.DataFrame(index=df.pid.unique(), columns=model_names)\n",
    "\n",
    "for model in model_names:\n",
    "    df_bic[model] = df[df.model_name == model].bic.to_list()\n",
    "\n",
    "df_bic = df_bic[df_bic.mean().sort_values().index]\n",
    "df_bic['Baseline'] = -2 * 4 * np.log(1/5**6)\n",
    "df_bic['experiment'] = experiments_series\n",
    "\n",
    "df_bic"
   ]
  },
  {
   "cell_type": "code",
   "execution_count": 122,
   "metadata": {},
   "outputs": [
    {
     "data": {
      "image/png": "[encoded data removed]",
      "text/plain": [
       "<Figure size 1008x432 with 3 Axes>"
      ]
     },
     "metadata": {
      "needs_background": "light"
     },
     "output_type": "display_data"
    }
   ],
   "source": [
    "\n",
    "fig, axs = plt.subplots(1, len(experiments), figsize=(14, 6), sharey=True)\n",
    "\n",
    "for i, experiment in enumerate(experiments):\n",
    "    df_exp = df_bic[df_bic.experiment == experiment]\n",
    "    df_exp_plot = df_exp[[col for col in df_exp.columns if col != 'experiment']]\n",
    "\n",
    "    sns.barplot(data=df_exp_plot, ax=axs[i])\n",
    "    axs[i].set_xticklabels(df_exp_plot.columns, rotation=45, ha='right')\n",
    "    axs[i].set_title(f'Experiment {experiment[-1]}')\n",
    "\n",
    "fig.suptitle('BICs for all experiments')\n",
    "plt.tight_layout()\n",
    "plt.show()"
   ]
  },
  {
   "cell_type": "code",
   "execution_count": 120,
   "metadata": {},
   "outputs": [
    {
     "data": {
      "image/png": "[encoded data removed]",
      "text/plain": [
       "<Figure size 576x432 with 1 Axes>"
      ]
     },
     "metadata": {
      "needs_background": "light"
     },
     "output_type": "display_data"
    }
   ],
   "source": [
    "df_bic_plot = df_bic[[col for col in df_bic.columns if col != 'experiment']]\n",
    "fig, ax = plt.subplots(1, 1, figsize=(8, 6))\n",
    "\n",
    "sns.barplot(data=df_bic_plot, ax=ax)\n",
    "ax.set_xticklabels(df_bic_plot.columns, rotation=45, ha='right')\n",
    "\n",
    "ax.set_title('BIC for all fitted models')\n",
    "plt.tight_layout()\n",
    "plt.show()"
   ]
  },
  {
   "cell_type": "code",
   "execution_count": null,
   "metadata": {},
   "outputs": [],
   "source": []
  },
  {
   "cell_type": "code",
   "execution_count": 44,
   "metadata": {},
   "outputs": [
    {
     "data": {
      "image/png": "[encoded data removed]",
      "text/plain": [
       "<Figure size 1224x360 with 5 Axes>"
      ]
     },
     "metadata": {
      "needs_background": "light"
     },
     "output_type": "display_data"
    }
   ],
   "source": [
    "fig, axs = plt.subplots(1, len(models_ran), figsize=(17, 5), sharey=True)\n",
    "\n",
    "for i, model in enumerate(models_ran):\n",
    "    sns.histplot(df[df.model_name == model].bic, ax=axs[i])\n",
    "    axs[i].set_title(model)\n",
    "\n",
    "plt.show()"
   ]
  }
 ],
 "metadata": {
  "interpreter": {
   "hash": "916dbcbb3f70747c44a77c7bcd40155683ae19c65e1c03b4aa3499c5328201f1"
  },
  "kernelspec": {
   "display_name": "Python 3.8.10 64-bit",
   "language": "python",
   "name": "python3"
  },
  "language_info": {
   "codemirror_mode": {
    "name": "ipython",
    "version": 3
   },
   "file_extension": ".py",
   "mimetype": "text/x-python",
   "name": "python",
   "nbconvert_exporter": "python",
   "pygments_lexer": "ipython3",
   "version": "3.8.10"
  },
  "orig_nbformat": 4
 },
 "nbformat": 4,
 "nbformat_minor": 2
}
