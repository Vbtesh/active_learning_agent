{
 "cells": [
  {
   "cell_type": "code",
   "execution_count": 1,
   "metadata": {},
   "outputs": [],
   "source": [
    "import numpy as np\n",
    "import pandas as pd\n",
    "import pickle\n",
    "\n",
    "from classes.ou_network import OU_Network\n",
    "from methods.sample_space_methods import build_space\n",
    "from methods.model_fitting_utilities import fit_models\n",
    "from methods.states_params_importer import import_states_asdict, import_states_params_asdict"
   ]
  },
  {
   "cell_type": "code",
   "execution_count": 2,
   "metadata": {},
   "outputs": [],
   "source": [
    "\n",
    "states_dict = import_states_asdict()\n",
    "models_dict = import_states_params_asdict()"
   ]
  },
  {
   "cell_type": "code",
   "execution_count": 3,
   "metadata": {},
   "outputs": [
    {
     "name": "stdout",
     "output_type": "stream",
     "text": [
      "|_ internal\n",
      "   |_ normative\n",
      "   |_ LC_discrete\n",
      "   |_ LC_continuous\n",
      "   |_ LC_discrete_attention\n",
      "   |_ change_d_obs_fk\n",
      "   |_ change_d_obs_cause_effect\n",
      "   |_ change_d_obs_cause\n",
      "   |_ change_d_obs_dist\n",
      "   |_ change_continuous\n",
      "|_ actions\n",
      "   |_ tree_search_soft_horizon\n",
      "   |_ tree_search_hard_horizon\n",
      "   |_ experience_vao\n",
      "|_ sensory\n",
      "   |_ omniscient\n"
     ]
    }
   ],
   "source": [
    "for state, model in models_dict.items():\n",
    "    print(f'|_ {state}')\n",
    "    for model_type in model.keys():\n",
    "        print(f'   |_ {model_type}')"
   ]
  },
  {
   "cell_type": "code",
   "execution_count": null,
   "metadata": {},
   "outputs": [],
   "source": []
  }
 ],
 "metadata": {
  "interpreter": {
   "hash": "916dbcbb3f70747c44a77c7bcd40155683ae19c65e1c03b4aa3499c5328201f1"
  },
  "kernelspec": {
   "display_name": "Python 3.8.10 64-bit",
   "language": "python",
   "name": "python3"
  },
  "language_info": {
   "codemirror_mode": {
    "name": "ipython",
    "version": 3
   },
   "file_extension": ".py",
   "mimetype": "text/x-python",
   "name": "python",
   "nbconvert_exporter": "python",
   "pygments_lexer": "ipython3",
   "version": "3.8.10"
  },
  "orig_nbformat": 4
 },
 "nbformat": 4,
 "nbformat_minor": 2
}
