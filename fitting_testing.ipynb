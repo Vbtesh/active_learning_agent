{
 "cells": [
  {
   "cell_type": "code",
   "execution_count": 3,
   "metadata": {},
   "outputs": [],
   "source": [
    "import numpy as np\n",
    "import pandas as pd\n",
    "import pickle\n",
    "\n",
    "from classes.ou_network import OU_Network\n",
    "from methods.sample_space_methods import build_space\n",
    "from methods.model_fitting_utilities import fit_models\n",
    "from methods.states_params_importer import import_states_asdict, import_states_params_asdict"
   ]
  },
  {
   "cell_type": "code",
   "execution_count": 11,
   "metadata": {},
   "outputs": [],
   "source": [
    "## Import behavioural experiment\n",
    "with open('/mnt/c/Users/vbtes/CompProjects/vbtCogSci/csl_global_analysis/data/global_modelling_data.obj', 'rb') as inFile:\n",
    "    modelling_data = pickle.load(inFile)\n",
    "\n",
    "## \n",
    "experiments = ['experiment_3']\n",
    "\n",
    "\n",
    "exceptions = [\n",
    "    '566feba6b937e400052d33b2', \n",
    "    '5f108dea719866356702d26f', \n",
    "    '5fbfe145e52a44000a9c2966'\n",
    "]\n",
    "\n",
    "states_dict = import_states_asdict()\n",
    "models_dict = import_states_params_asdict()"
   ]
  },
  {
   "cell_type": "code",
   "execution_count": 21,
   "metadata": {},
   "outputs": [],
   "source": [
    "#'CI': congruence inverted: use congruent actions in incongruent trials and vice versa\n",
    "# FR: randomise the pool of labelled actions and realocate randomly\n",
    "# GA: use their generic actions in labelled trials\n",
    "\n",
    "\n",
    "CI = {}\n",
    "for part, part_data in modelling_data.items():\n",
    "    CI[part] = part_data.copy()\n",
    "    if part_data['experiment'] not in experiments or part in exceptions:\n",
    "        continue\n",
    "    \n",
    "    values_congruent = CI[part]['trials']['congruent']['data'].copy()\n",
    "    actions_congruent = CI[part]['trials']['congruent']['inters'].copy()\n",
    "    # Replace congruent with incongruent\n",
    "    CI[part]['trials']['congruent']['data'] = CI[part]['trials']['incongruent']['data']\n",
    "    CI[part]['trials']['congruent']['inters'] = CI[part]['trials']['incongruent']['inters']\n",
    "    # Replace incongruent with congruent\n",
    "    CI[part]['trials']['incongruent']['data'] = values_congruent\n",
    "    CI[part]['trials']['incongruent']['inters'] = actions_congruent\n",
    "\n",
    "\n",
    "with open('./data/.modelling_data_manipulated/congruence_inverted_CI.obj', 'wb') as outFile:\n",
    "    pickle.dump(CI, outFile)"
   ]
  },
  {
   "cell_type": "code",
   "execution_count": 25,
   "metadata": {},
   "outputs": [
    {
     "data": {
      "text/plain": [
       "121"
      ]
     },
     "execution_count": 25,
     "metadata": {},
     "output_type": "execute_result"
    }
   ],
   "source": [
    "parts_3 = [part for part in modelling_data.keys() if modelling_data[part]['experiment'] == 'experiment_3']\n",
    "len(parts_3)"
   ]
  },
  {
   "cell_type": "code",
   "execution_count": 5,
   "metadata": {},
   "outputs": [
    {
     "name": "stdout",
     "output_type": "stream",
     "text": [
      "|_ external\n",
      "   |_ OU_Network\n",
      "|_ internal\n",
      "   |_ normative\n",
      "   |_ LC_discrete\n",
      "   |_ LC_continuous\n",
      "   |_ LC_discrete_attention\n",
      "   |_ LC_discrete_att\n",
      "   |_ LC_discrete_att_total\n",
      "   |_ LC_discrete_att_partial\n",
      "   |_ change_d_obs_fk\n",
      "   |_ change_d_obs_cause_effect\n",
      "   |_ change_d_obs_cause\n",
      "   |_ change_d_obs_dist\n",
      "   |_ change_obs_fk\n",
      "   |_ change_obs_cause_effect\n",
      "   |_ change_obs_cause\n",
      "   |_ change_obs_dist\n",
      "   |_ ces_strength\n",
      "   |_ ces_strength_unrestricted\n",
      "   |_ ces_strength_softmax\n",
      "   |_ ces_no_strength\n",
      "   |_ ces_no_strength_softmax\n",
      "   |_ change_continuous\n",
      "|_ actions\n",
      "   |_ tree_search_soft_horizon\n",
      "   |_ tree_search_hard_horizon\n",
      "   |_ experience_vao\n",
      "|_ sensory\n",
      "   |_ omniscient\n"
     ]
    }
   ],
   "source": [
    "for state, model in models_dict.items():\n",
    "    print(f'|_ {state}')\n",
    "    for model_type in model.keys():\n",
    "        print(f'   |_ {model_type}')"
   ]
  },
  {
   "cell_type": "code",
   "execution_count": null,
   "metadata": {},
   "outputs": [],
   "source": []
  }
 ],
 "metadata": {
  "interpreter": {
   "hash": "916dbcbb3f70747c44a77c7bcd40155683ae19c65e1c03b4aa3499c5328201f1"
  },
  "kernelspec": {
   "display_name": "Python 3.8.10 64-bit",
   "language": "python",
   "name": "python3"
  },
  "language_info": {
   "codemirror_mode": {
    "name": "ipython",
    "version": 3
   },
   "file_extension": ".py",
   "mimetype": "text/x-python",
   "name": "python",
   "nbconvert_exporter": "python",
   "pygments_lexer": "ipython3",
   "version": "3.8.10"
  },
  "orig_nbformat": 4
 },
 "nbformat": 4,
 "nbformat_minor": 2
}
