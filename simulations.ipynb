{
 "cells": [
  {
   "cell_type": "code",
   "execution_count": 1,
   "metadata": {},
   "outputs": [],
   "source": [
    "import numpy as np\n",
    "from scipy import stats\n",
    "import pandas as pd\n",
    "from methods.smoothing import smooth"
   ]
  },
  {
   "cell_type": "code",
   "execution_count": 3,
   "metadata": {},
   "outputs": [],
   "source": [
    "columns = ['generic', 'congruent', 'incongruent', 'implausible']"
   ]
  },
  {
   "cell_type": "code",
   "execution_count": 4,
   "metadata": {},
   "outputs": [
    {
     "name": "stdout",
     "output_type": "stream",
     "text": [
      "Behavioural results:\n",
      "generic        0.803597\n",
      "congruent      0.829659\n",
      "incongruent    0.797723\n",
      "implausible    0.743665\n",
      "dtype: float64\n"
     ]
    }
   ],
   "source": [
    "b_data =pd.read_csv('/home/vbtesh/documents/CompProjects/vbtCogSci/csl2analysis/data/accuracy_db.csv')\n",
    "print('Behavioural results:')\n",
    "print(b_data[columns].mean())"
   ]
  },
  {
   "cell_type": "code",
   "execution_count": 12,
   "metadata": {},
   "outputs": [
    {
     "name": "stdout",
     "output_type": "stream",
     "text": [
      "LC continuous random actor\n",
      "generic        0.855490\n",
      "congruent      0.794879\n",
      "incongruent    0.781543\n",
      "implausible    0.759701\n",
      "dtype: float64\n",
      "LC continuous obs\n",
      "generic        NaN\n",
      "congruent      NaN\n",
      "incongruent    NaN\n",
      "implausible    NaN\n",
      "dtype: object\n",
      "Ttest_indResult(statistic=-3.101342183754329, pvalue=0.0021568440126595516)\n"
     ]
    }
   ],
   "source": [
    "df_lc_cont_obs = pd.read_csv('./data/lc_continuous_obs_round.csv')\n",
    "df_lc_cont_random = pd.read_csv('./data/lc_continuous_random_round.csv')\n",
    "print('LC continuous random actor')\n",
    "print(df_lc_cont_random[columns].mean())\n",
    "print('LC continuous obs')\n",
    "print(df_lc_cont_obs[columns].mean())\n",
    "print(stats.ttest_ind(df_lc_cont_random['congruent'],df_lc_cont_random['incongruent'], ))"
   ]
  },
  {
   "cell_type": "code",
   "execution_count": 6,
   "metadata": {},
   "outputs": [
    {
     "name": "stdout",
     "output_type": "stream",
     "text": [
      "LC random actor\n",
      "generic        0.928462\n",
      "congruent      0.930220\n",
      "incongruent    0.906474\n",
      "implausible    0.876624\n",
      "dtype: float64\n",
      "LC obs\n",
      "generic        0.876130\n",
      "congruent      0.848931\n",
      "incongruent    0.819315\n",
      "implausible    0.792457\n",
      "dtype: float64\n",
      "LC random actor prior\n",
      "generic        0.926287\n",
      "congruent      0.937359\n",
      "incongruent    0.911254\n",
      "implausible    0.877929\n",
      "dtype: float64\n",
      "LC obs prior\n",
      "generic        0.876694\n",
      "congruent      0.855518\n",
      "incongruent    0.817219\n",
      "implausible    0.781909\n",
      "dtype: float64\n"
     ]
    }
   ],
   "source": [
    "df_lc_obs = pd.read_csv('./data/lc_obs.csv')\n",
    "df_lc_random = pd.read_csv('./data/lc_random.csv')\n",
    "print('LC random actor')\n",
    "print(df_lc_random[columns].mean())\n",
    "print('LC obs')\n",
    "print(df_lc_obs[columns].mean())\n",
    "\n",
    "df_lc_obs_prior = pd.read_csv('./data/lc_obs_prior.csv')\n",
    "df_lc_random_prior = pd.read_csv('./data/lc_random_prior.csv')\n",
    "print('LC random actor prior')\n",
    "print(df_lc_random_prior[columns].mean())\n",
    "print('LC obs prior')\n",
    "print(df_lc_obs_prior[columns].mean())\n"
   ]
  },
  {
   "cell_type": "code",
   "execution_count": 7,
   "metadata": {},
   "outputs": [
    {
     "name": "stdout",
     "output_type": "stream",
     "text": [
      "Normative random actor\n",
      "generic        1.000000\n",
      "congruent      0.993735\n",
      "incongruent    0.989754\n",
      "implausible    0.987640\n",
      "dtype: float64\n",
      "Normative obs\n",
      "generic        0.966085\n",
      "congruent      0.953258\n",
      "incongruent    0.954926\n",
      "implausible    0.950396\n",
      "dtype: float64\n",
      "Normative random actor prior\n",
      "generic        0.997445\n",
      "congruent      0.993329\n",
      "incongruent    0.990721\n",
      "implausible    0.980985\n",
      "dtype: float64\n",
      "Normative obs prior\n",
      "generic        0.967288\n",
      "congruent      0.962137\n",
      "incongruent    0.913850\n",
      "implausible    0.813277\n",
      "dtype: float64\n"
     ]
    }
   ],
   "source": [
    "df_normative_obs = pd.read_csv('./data/normative_obs.csv')\n",
    "df_normative_random = pd.read_csv('./data/normative_random.csv')\n",
    "print('Normative random actor')\n",
    "print(df_normative_random[columns].mean())\n",
    "print('Normative obs')\n",
    "print(df_normative_obs[columns].mean())\n",
    "\n",
    "df_normative_obs_prior = pd.read_csv('./data/normative_obs_prior.csv')\n",
    "df_normative_random_prior = pd.read_csv('./data/normative_random_prior.csv')\n",
    "print('Normative random actor prior')\n",
    "print(df_normative_random_prior[columns].mean())\n",
    "print('Normative obs prior')\n",
    "print(df_normative_obs_prior[columns].mean())"
   ]
  },
  {
   "cell_type": "code",
   "execution_count": 8,
   "metadata": {},
   "outputs": [
    {
     "name": "stdout",
     "output_type": "stream",
     "text": [
      "Normative random actor prior 40\n",
      "congruent      0.960350\n",
      "incongruent    0.912071\n",
      "implausible    0.683422\n",
      "dtype: float64\n",
      "LC random prior 40\n",
      "congruent      0.936986\n",
      "incongruent    0.904594\n",
      "implausible    0.878717\n",
      "dtype: float64\n"
     ]
    }
   ],
   "source": [
    "df_normative_random_prior40 = pd.read_csv('./data/normative_random_prior100.csv')\n",
    "df_lc_random_prior40 = pd.read_csv('./data/lc_random_prior100.csv')\n",
    "print('Normative random actor prior 40')\n",
    "print(df_normative_random_prior40[columns[1:]].mean())\n",
    "print('LC random prior 40')\n",
    "print(df_lc_random_prior40[columns[1:]].mean())"
   ]
  },
  {
   "cell_type": "code",
   "execution_count": 9,
   "metadata": {},
   "outputs": [
    {
     "name": "stdout",
     "output_type": "stream",
     "text": [
      "Squared difference behavioural data discrete normative: 19.877102877142672\n",
      "Squared difference behavioural data discrete LC: 10.395634939796697\n",
      "Squared difference behavioural data continuous LC: 5.8151294375100555\n"
     ]
    }
   ],
   "source": [
    "diff_normative = (df_normative_random[columns[1:]].to_numpy() - b_data[columns[1:]].to_numpy())**2\n",
    "print('Squared difference behavioural data discrete normative:', diff_normative.sum())\n",
    "\n",
    "diff_lc_discrete = (df_lc_random[columns[1:]].to_numpy() - b_data[columns[1:]].to_numpy())**2\n",
    "print('Squared difference behavioural data discrete LC:', diff_lc_discrete.sum())\n",
    "\n",
    "diff_lc_continuous = (df_lc_cont_random[columns[1:]].to_numpy() - b_data[columns[1:]].to_numpy())**2\n",
    "print('Squared difference behavioural data continuous LC:', diff_lc_continuous.sum())"
   ]
  },
  {
   "cell_type": "code",
   "execution_count": 34,
   "metadata": {},
   "outputs": [
    {
     "data": {
      "text/plain": [
       "congruent      0.695383\n",
       "incongruent    0.679799\n",
       "implausible    0.633768\n",
       "dtype: float64"
      ]
     },
     "execution_count": 34,
     "metadata": {},
     "output_type": "execute_result"
    }
   ],
   "source": []
  }
 ],
 "metadata": {
  "interpreter": {
   "hash": "31f2aee4e71d21fbe5cf8b01ff0e069b9275f58929596ceb00d14d90e3e16cd6"
  },
  "kernelspec": {
   "display_name": "Python 3.8.10 64-bit",
   "name": "python3"
  },
  "language_info": {
   "codemirror_mode": {
    "name": "ipython",
    "version": 3
   },
   "file_extension": ".py",
   "mimetype": "text/x-python",
   "name": "python",
   "nbconvert_exporter": "python",
   "pygments_lexer": "ipython3",
   "version": "3.8.10"
  },
  "orig_nbformat": 4
 },
 "nbformat": 4,
 "nbformat_minor": 2
}
