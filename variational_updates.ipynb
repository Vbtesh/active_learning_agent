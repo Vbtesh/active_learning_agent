{
 "cells": [
  {
   "cell_type": "code",
   "execution_count": 252,
   "metadata": {},
   "outputs": [],
   "source": [
    "import numpy as np\n",
    "from scipy import stats"
   ]
  },
  {
   "cell_type": "code",
   "execution_count": null,
   "metadata": {},
   "outputs": [],
   "source": []
  },
  {
   "cell_type": "code",
   "execution_count": 320,
   "metadata": {},
   "outputs": [],
   "source": [
    "parameter_set = {\n",
    "    'theta': {\n",
    "        'values': np.array([0.1, 0.5, 1, 3]),\n",
    "        'prior': np.array([0.1, 0.5, 0.2, 0.2]),\n",
    "        'dependencies_as_bool': np.array([0, 1, 0, 0, 0, 0, 0, 0]),\n",
    "        'dependencies_as_str': np.array(['sigma'], dtype=object),\n",
    "        'type': 'no_link'\n",
    "    },\n",
    "    'sigma': {\n",
    "        'values': np.array([0.5, 1, 3, 6]),\n",
    "        'prior': np.array([0.1, 0.1, 0.6, 0.2]),\n",
    "        'dependencies_as_bool': np.array([1, 0, 0, 0, 0, 0, 0, 0]),\n",
    "        'dependencies_as_str': np.array(['theta'], dtype=object),\n",
    "        'type': 'no_link'\n",
    "    },\n",
    "    '0->1': {\n",
    "        'values': np.array([-1, -1/2, 0, 1/2, 1]),\n",
    "        'prior': np.array([0.5, 0.3, 0.1, 0.05, 0.05]),\n",
    "        'dependencies_as_bool': np.array([1, 1, 0, 0, 0, 0, 0, 1]),\n",
    "        'dependencies_as_str': np.array(['sigma', 'theta', '2->1'], dtype=object),\n",
    "        'type': 'link'\n",
    "    },\n",
    "    '0->2': {\n",
    "        'values': np.array([-1, -1/2, 0, 1/2, 1]),\n",
    "        'prior': np.array([0.5, 0.3, 0.1, 0.05, 0.05]),\n",
    "        'dependencies_as_bool': np.array([1, 1, 0, 0, 0, 1, 0, 0]),\n",
    "        'dependencies_as_str': np.array(['sigma', 'theta', '1->2'], dtype=object),\n",
    "        'type': 'link'\n",
    "    },\n",
    "    '1->0': {\n",
    "        'values': np.array([-1, -1/2, 0, 1/2, 1]),\n",
    "        'prior': np.array([0.5, 0.3, 0.1, 0.05, 0.05]),\n",
    "        'dependencies_as_bool': np.array([1, 1, 0, 0, 0, 0, 1, 0]),\n",
    "        'dependencies_as_str': np.array(['sigma', 'theta', '2->0'], dtype=object),\n",
    "        'type': 'link'\n",
    "    },\n",
    "    '1->2': {\n",
    "        'values': np.array([-1, -1/2, 0, 1/2, 1]),\n",
    "        'prior': np.array([0.5, 0.3, 0.1, 0.05, 0.05]),\n",
    "        'dependencies_as_bool': np.array([1, 1, 0, 1, 0, 0, 0, 0]),\n",
    "        'dependencies_as_str': np.array(['sigma', 'theta', '0->2'], dtype=object),\n",
    "        'type': 'link'\n",
    "    },\n",
    "    '2->0': {\n",
    "        'values': np.array([-1, -1/2, 0, 1/2, 1]),\n",
    "        'prior': np.array([0.5, 0.3, 0.1, 0.05, 0.05]),\n",
    "        'dependencies_as_bool': np.array([1, 1, 0, 0, 1, 0, 0, 0]),\n",
    "        'dependencies_as_str': np.array(['sigma', 'theta', '1->0'], dtype=object),\n",
    "        'type': 'link'\n",
    "    },\n",
    "    '2->1': {\n",
    "        'values': np.array([-1, -1/2, 0, 1/2, 1]),\n",
    "        'prior': np.array([0.5, 0.3, 0.1, 0.05, 0.05]),\n",
    "        'dependencies_as_bool': np.array([1, 1, 1, 0, 0, 0, 0, 0]),\n",
    "        'dependencies_as_str': np.array(['sigma', 'theta', '0->1'], dtype=object),\n",
    "        'type': 'link'\n",
    "    }\n",
    "}"
   ]
  },
  {
   "cell_type": "code",
   "execution_count": 255,
   "metadata": {},
   "outputs": [],
   "source": [
    "def construct_parameter_combinations(param_labels, param_values):\n",
    "    num_values = np.array([p_v.size for p_v in param_values])\n",
    "    c = len(param_labels) # Number of parameters (columns)\n",
    "    r = num_values.prod() # Number of tuples (rows)\n",
    "    S = np.zeros((r, c))\n",
    "    for i in range(c):\n",
    "        tile_coef = int(num_values[i+1:].prod())\n",
    "        rep_coef = int(num_values[:i].prod())\n",
    "        ou = np.tile(param_values[i], (int(tile_coef), 1)).flatten('F')\n",
    "        o = ou[np.tile(np.arange(ou.size), (1, rep_coef)).flatten()]\n",
    "        S[:, i] = o.T\n",
    "    return S\n",
    "\n",
    "\n",
    "def construct_link_matrix(K):\n",
    "    G = np.empty((K, K), dtype=object)\n",
    "    for i in range(K):\n",
    "        for j in range(K):\n",
    "            if i == j:\n",
    "                G[i, j] = ''\n",
    "            else:\n",
    "                G[i, j] = f'{i}->{j}'\n",
    "    \n",
    "    return G"
   ]
  },
  {
   "cell_type": "code",
   "execution_count": 289,
   "metadata": {},
   "outputs": [
    {
     "name": "stdout",
     "output_type": "stream",
     "text": [
      "2\n",
      "[['' '0->1']\n",
      " ['1->0' '']\n",
      " ['2->0' '2->1']]\n",
      "['2->0' '2->1']\n",
      "[['' '0->1']\n",
      " ['1->0' '']]\n"
     ]
    },
    {
     "data": {
      "text/plain": [
       "array(['2->0', '2->1', '0->1', '1->0'], dtype=object)"
      ]
     },
     "execution_count": 289,
     "metadata": {},
     "output_type": "execute_result"
    }
   ],
   "source": [
    "K = 3\n",
    "action = 2\n",
    "action_bool = np.zeros(K, dtype=bool)\n",
    "action_bool[action] = 1\n",
    "print(action)\n",
    "links_c = link_name_matrix[:, ~action_bool]\n",
    "print(links_c)\n",
    "#print(~action_bool)\n",
    "#print(np.where(links_c == ''))\n",
    "additional_dependencies = links_c[action_bool, :].flatten()\n",
    "print(additional_dependencies)\n",
    "print(links_c[~action_bool, :])\n",
    "np.concatenate((additional_dependencies, np.delete(links_c[~action_bool, :], [0, links_c[~action_bool, :].size-1])))"
   ]
  },
  {
   "cell_type": "code",
   "execution_count": 314,
   "metadata": {},
   "outputs": [
    {
     "data": {
      "text/plain": [
       "array(['0->1', '0->2', '1->2', '2->1'], dtype=object)"
      ]
     },
     "execution_count": 314,
     "metadata": {},
     "output_type": "execute_result"
    }
   ],
   "source": [
    "action = 0\n",
    "dep_bool = np.zeros(link_name_matrix.shape, dtype=bool)\n",
    "for i in range(K):\n",
    "    for j in range(K):\n",
    "        if i != j and j != action:\n",
    "            dep_bool[i, j] = 1\n",
    "\n",
    "additional_dependencies = link_name_matrix[dep_bool]\n",
    "additional_dependencies"
   ]
  },
  {
   "cell_type": "code",
   "execution_count": 315,
   "metadata": {},
   "outputs": [
    {
     "data": {
      "text/plain": [
       "array([[False,  True,  True],\n",
       "       [False, False,  True],\n",
       "       [False,  True, False]])"
      ]
     },
     "execution_count": 315,
     "metadata": {},
     "output_type": "execute_result"
    }
   ],
   "source": [
    "dep_bool"
   ]
  },
  {
   "cell_type": "code",
   "execution_count": 338,
   "metadata": {},
   "outputs": [],
   "source": [
    "K = 3\n",
    "dt = 1/5\n",
    "\n",
    "belief_name = 'sigma'\n",
    "belief_values = parameter_set[belief_name]['values']\n",
    "link_name_matrix = construct_link_matrix(K)\n",
    "\n",
    "action = 1\n",
    "parameter_names = parameter_set[belief_name]['dependencies_as_str']\n",
    "dep_bool = np.zeros(link_name_matrix.shape, dtype=bool)\n",
    "for i in range(K):\n",
    "    for j in range(K):\n",
    "        if i != j and j != action:\n",
    "            dep_bool[i, j] = 1\n",
    "\n",
    "additional_dependencies = link_name_matrix[dep_bool]\n",
    "additional_dependencies\n",
    "parameter_names = np.concatenate((parameter_names, additional_dependencies))\n",
    "param_values_list = [parameter_set[name]['values'] for name in parameter_names]\n",
    "parameter_values = construct_parameter_combinations(parameter_names, param_values_list)\n",
    "var_to_consider= np.ones(K, dtype=bool)\n",
    "var_to_consider[action] = 0\n",
    "\n",
    "X = np.array([40, 21, -12])\n",
    "X_prev = np.array([35, 20, -5])\n",
    "\n",
    "out = np.zeros((belief_values.size, parameter_values.shape[0]))\n",
    "for k in range(K):\n",
    "    if var_to_consider[k] == 0:\n",
    "        continue\n",
    "    \n",
    "    current_var = np.zeros(K).astype(bool)\n",
    "    current_var[k] = 1\n",
    "    \n",
    "    if belief_name == 'sigma':\n",
    "        thetas = parameter_values[:, parameter_names.tolist().index('theta')]\n",
    "        sigmas = belief_values\n",
    "    else:\n",
    "        sigmas = parameter_values[:, parameter_names.tolist().index('sigma')]\n",
    "        thetas = belief_values\n",
    "\n",
    "    links_indices = [parameter_names.tolist().index(param) for param in parameter_names[1:] if int(param[-1]) == k]\n",
    "    #print(links_indices)\n",
    "    links = np.ones((K, parameter_values.shape[0]))\n",
    "    links[~current_var, :] = parameter_values[:, links_indices].T\n",
    "\n",
    "    regularisor = -1 * X_prev[k] * (np.abs(X_prev[k]) / 100)\n",
    "    \n",
    "    if belief_name == 'theta':\n",
    "        mus = thetas.reshape((thetas.size, 1)) * (X_prev @ links + regularisor - X_prev[k]) * dt\n",
    "        out += stats.norm.logpdf(X[k], loc=mus, scale=sigmas)\n",
    "    else:\n",
    "        mus = thetas * (X_prev @ links + regularisor - X_prev[k]) * dt\n",
    "        out += stats.norm.logpdf(X[k], loc=mus, scale=sigmas.reshape((sigmas.size, 1)))"
   ]
  },
  {
   "cell_type": "code",
   "execution_count": 339,
   "metadata": {},
   "outputs": [
    {
     "data": {
      "text/plain": [
       "array([[-3526.08368271, -3534.19768271, -3542.32168271, ...,\n",
       "        -6576.74158271, -6793.34158271, -7018.94158271],\n",
       "       [ -883.24590207,  -885.27440207,  -887.30540207, ...,\n",
       "        -1645.91037707, -1700.06037707, -1756.46037707],\n",
       "       [ -101.96932664,  -102.19471553,  -102.4203822 , ...,\n",
       "         -186.70982387,  -192.72649053,  -198.9931572 ],\n",
       "       [  -29.90495225,   -29.96129948,   -30.01771614, ...,\n",
       "          -51.09007656,   -52.59424323,   -54.16090989]])"
      ]
     },
     "execution_count": 339,
     "metadata": {},
     "output_type": "execute_result"
    }
   ],
   "source": [
    "out"
   ]
  },
  {
   "cell_type": "code",
   "execution_count": 354,
   "metadata": {},
   "outputs": [
    {
     "data": {
      "text/plain": [
       "array([[0, 1, 2, 3, 4],\n",
       "       [0, 1, 2, 3, 4],\n",
       "       [0, 1, 2, 3, 4]])"
      ]
     },
     "execution_count": 354,
     "metadata": {},
     "output_type": "execute_result"
    }
   ],
   "source": [
    "Qs = np.array([np.array([0, 1, 2]), np.array([0, 1, 2, 3, 4]), np.array([0, 1, 2, 3, 4]), np.array([0, 1, 2, 3, 4])], dtype=object)\n",
    "select = np.array([0, 1, 1, 1], dtype=bool)\n",
    "\n",
    "np.vstack(Qs[select])"
   ]
  }
 ],
 "metadata": {
  "language_info": {
   "name": "python"
  },
  "orig_nbformat": 4
 },
 "nbformat": 4,
 "nbformat_minor": 2
}
